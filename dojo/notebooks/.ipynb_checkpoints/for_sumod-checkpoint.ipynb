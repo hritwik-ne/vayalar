{
 "cells": [
  {
   "cell_type": "code",
   "execution_count": 1,
   "id": "b9cb6af8",
   "metadata": {},
   "outputs": [],
   "source": [
    "import os\n",
    "\n",
    "import pandas as pd\n",
    "import numpy as np\n",
    "import matplotlib.pyplot as plt\n",
    "import scipy.ndimage as ndimage\n",
    "from sklearn import svm\n",
    "import PIL\n",
    "import pickle\n",
    "import cv2"
   ]
  },
  {
   "cell_type": "code",
   "execution_count": 2,
   "id": "f6ad0e15",
   "metadata": {},
   "outputs": [],
   "source": [
    "train_df = pd.read_csv('../../data/v_0.3/train.csv')\n",
    "test_df = pd.read_csv('../../data/v_0.3/test.csv')"
   ]
  },
  {
   "cell_type": "code",
   "execution_count": 3,
   "id": "2129d349",
   "metadata": {},
   "outputs": [],
   "source": [
    "X = train_df.iloc[:, 1:]\n",
    "y = train_df.iloc[:, :1]\n",
    "y = np.array(y['0'].tolist())\n",
    "\n",
    "X_test = test_df.iloc[:, 1:]\n",
    "y_test = test_df.iloc[:, :1]"
   ]
  },
  {
   "cell_type": "code",
   "execution_count": 5,
   "id": "5a812955",
   "metadata": {},
   "outputs": [],
   "source": [
    "# for normalising data\n",
    "\n",
    "from sklearn.preprocessing import MinMaxScaler\n",
    "scalar = MinMaxScaler()\n",
    "scalar.fit(X)\n",
    "normalised_X = scalar.transform(X)\n",
    "\n",
    "cols = [i for i in range(1,7397)]\n",
    "normalised_df = pd.DataFrame(normalised_X, columns=cols)"
   ]
  },
  {
   "cell_type": "code",
   "execution_count": 4,
   "id": "927eae38",
   "metadata": {},
   "outputs": [],
   "source": [
    "# for standardising data\n",
    "\n",
    "from sklearn.preprocessing import StandardScaler\n",
    "scalar = StandardScaler()\n",
    "scalar.fit(X)\n",
    "standardised_X = scalar.transform(X)\n",
    "\n",
    "cols = [i for i in range(1,7397)]\n",
    "standardised_df = pd.DataFrame(standardised_X, columns=cols)"
   ]
  },
  {
   "cell_type": "code",
   "execution_count": null,
   "id": "02ca5f09",
   "metadata": {
    "scrolled": true
   },
   "outputs": [
    {
     "name": "stdout",
     "output_type": "stream",
     "text": [
      "[LibSVM]WARN: libsvm Solver reached max_iter\n",
      "optimization finished, #iter = 200\n",
      "obj = -200.000000, rho = 0.000000\n",
      "nSV = 400, nBSV = 400\n",
      "WARN: libsvm Solver reached max_iter\n",
      "optimization finished, #iter = 200\n",
      "obj = -200.000000, rho = 0.000000\n",
      "nSV = 400, nBSV = 400\n",
      "WARN: libsvm Solver reached max_iter\n",
      "optimization finished, #iter = 200\n",
      "obj = -200.000000, rho = 0.000000\n",
      "nSV = 400, nBSV = 400\n",
      "WARN: libsvm Solver reached max_iter\n",
      "optimization finished, #iter = 200\n",
      "obj = -200.000000, rho = 0.000000\n",
      "nSV = 400, nBSV = 400\n",
      "WARN: libsvm Solver reached max_iter\n",
      "optimization finished, #iter = 200\n",
      "obj = -200.000000, rho = 0.000000\n",
      "nSV = 400, nBSV = 400\n"
     ]
    }
   ],
   "source": [
    "clf = svm.SVC(kernel='rbf', C=1, gamma=0.1, max_iter=200, verbose=True)\n",
    "clf.fit(standardised_df, y)"
   ]
  },
  {
   "cell_type": "code",
   "execution_count": null,
   "id": "64f9c40f",
   "metadata": {},
   "outputs": [],
   "source": [
    "# HAVEN'T NORMALISED OR STANDARDISED TEST SET YET, NORMALISE OR STANDARDISE THEM\n",
    "# ACCORDINGLY BEFORE TESTING\n",
    "\n",
    "y_preds = clf.predict(X_test)\n",
    "\n",
    "y_test_list = y_test[0].tolist()\n",
    "y_preds_list = list(y_preds)\n",
    "\n",
    "pred_acc_list = []\n",
    "for pred_class, true_class in zip(y_preds_list, y_test_list):\n",
    "    pred_acc_list.append(int(pred_class==true_class))\n",
    "\n",
    "accuracy = sum(pred_acc_list) / float(len(pred_acc_list)) * 100\n",
    "print(f'Accuracy: {round(accuracy, 2)}%')"
   ]
  },
  {
   "cell_type": "code",
   "execution_count": null,
   "id": "430c00e7",
   "metadata": {},
   "outputs": [],
   "source": []
  }
 ],
 "metadata": {
  "kernelspec": {
   "display_name": "Python 3 (ipykernel)",
   "language": "python",
   "name": "python3"
  },
  "language_info": {
   "codemirror_mode": {
    "name": "ipython",
    "version": 3
   },
   "file_extension": ".py",
   "mimetype": "text/x-python",
   "name": "python",
   "nbconvert_exporter": "python",
   "pygments_lexer": "ipython3",
   "version": "3.9.6"
  }
 },
 "nbformat": 4,
 "nbformat_minor": 5
}
